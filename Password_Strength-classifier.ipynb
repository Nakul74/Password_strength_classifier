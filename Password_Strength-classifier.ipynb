{
 "cells": [
  {
   "cell_type": "markdown",
   "metadata": {},
   "source": [
    "<h1>Password Strength Detector</h1>"
   ]
  },
  {
   "cell_type": "code",
   "execution_count": 1,
   "metadata": {
    "colab": {},
    "colab_type": "code",
    "id": "tOgefh0m9KTx"
   },
   "outputs": [],
   "source": [
    "#Importing the required libraries\n",
    "import pandas as pd\n",
    "import numpy as np\n",
    "import matplotlib.pyplot as plt\n",
    "import seaborn as sns\n",
    "import warnings\n",
    "warnings.filterwarnings(\"ignore\")\n",
    "\n",
    "from sklearn.model_selection import train_test_split\n",
    "from sklearn.feature_extraction.text import TfidfVectorizer\n",
    "\n",
    "import time\n",
    "from sklearn.naive_bayes import MultinomialNB\n",
    "from sklearn.linear_model import LogisticRegression\n",
    "from mlxtend.feature_selection import ExhaustiveFeatureSelector as EFS\n",
    "import scikitplot as skplt\n",
    "from sklearn.metrics import classification_report,confusion_matrix,balanced_accuracy_score,log_loss\n"
   ]
  },
  {
   "cell_type": "code",
   "execution_count": 2,
   "metadata": {
    "colab": {},
    "colab_type": "code",
    "id": "Brc7otpL-sQM"
   },
   "outputs": [],
   "source": [
    "df = pd.read_csv(r'password_data.csv')"
   ]
  },
  {
   "cell_type": "code",
   "execution_count": 3,
   "metadata": {
    "colab": {
     "base_uri": "https://localhost:8080/",
     "height": 419
    },
    "colab_type": "code",
    "id": "aUEayBE5-vrF",
    "outputId": "ebd22fa9-66d4-4e96-ffd9-2f7fb4e1a3f2",
    "scrolled": true
   },
   "outputs": [
    {
     "data": {
      "text/html": [
       "<div>\n",
       "<style scoped>\n",
       "    .dataframe tbody tr th:only-of-type {\n",
       "        vertical-align: middle;\n",
       "    }\n",
       "\n",
       "    .dataframe tbody tr th {\n",
       "        vertical-align: top;\n",
       "    }\n",
       "\n",
       "    .dataframe thead th {\n",
       "        text-align: right;\n",
       "    }\n",
       "</style>\n",
       "<table border=\"1\" class=\"dataframe\">\n",
       "  <thead>\n",
       "    <tr style=\"text-align: right;\">\n",
       "      <th></th>\n",
       "      <th>password</th>\n",
       "      <th>strength</th>\n",
       "    </tr>\n",
       "  </thead>\n",
       "  <tbody>\n",
       "    <tr>\n",
       "      <th>402881</th>\n",
       "      <td>djnelly123</td>\n",
       "      <td>1</td>\n",
       "    </tr>\n",
       "    <tr>\n",
       "      <th>257277</th>\n",
       "      <td>munde88</td>\n",
       "      <td>0</td>\n",
       "    </tr>\n",
       "    <tr>\n",
       "      <th>454298</th>\n",
       "      <td>3u5veybg</td>\n",
       "      <td>1</td>\n",
       "    </tr>\n",
       "    <tr>\n",
       "      <th>530180</th>\n",
       "      <td>sergey1</td>\n",
       "      <td>0</td>\n",
       "    </tr>\n",
       "    <tr>\n",
       "      <th>263835</th>\n",
       "      <td>ocean4</td>\n",
       "      <td>0</td>\n",
       "    </tr>\n",
       "  </tbody>\n",
       "</table>\n",
       "</div>"
      ],
      "text/plain": [
       "          password  strength\n",
       "402881  djnelly123         1\n",
       "257277     munde88         0\n",
       "454298    3u5veybg         1\n",
       "530180     sergey1         0\n",
       "263835      ocean4         0"
      ]
     },
     "execution_count": 3,
     "metadata": {},
     "output_type": "execute_result"
    }
   ],
   "source": [
    "df.sample(5)"
   ]
  },
  {
   "cell_type": "code",
   "execution_count": 4,
   "metadata": {},
   "outputs": [
    {
     "data": {
      "text/plain": [
       "(669327, 2)"
      ]
     },
     "execution_count": 4,
     "metadata": {},
     "output_type": "execute_result"
    }
   ],
   "source": [
    "df.shape"
   ]
  },
  {
   "cell_type": "code",
   "execution_count": 5,
   "metadata": {},
   "outputs": [
    {
     "name": "stdout",
     "output_type": "stream",
     "text": [
      "<class 'pandas.core.frame.DataFrame'>\n",
      "RangeIndex: 669327 entries, 0 to 669326\n",
      "Data columns (total 2 columns):\n",
      " #   Column    Non-Null Count   Dtype \n",
      "---  ------    --------------   ----- \n",
      " 0   password  669327 non-null  object\n",
      " 1   strength  669327 non-null  int64 \n",
      "dtypes: int64(1), object(1)\n",
      "memory usage: 10.2+ MB\n"
     ]
    }
   ],
   "source": [
    "df.info()"
   ]
  },
  {
   "cell_type": "code",
   "execution_count": 6,
   "metadata": {},
   "outputs": [
    {
     "data": {
      "text/plain": [
       "1    496747\n",
       "0     89651\n",
       "2     82929\n",
       "Name: strength, dtype: int64"
      ]
     },
     "execution_count": 6,
     "metadata": {},
     "output_type": "execute_result"
    }
   ],
   "source": [
    "df['strength'].value_counts()"
   ]
  },
  {
   "cell_type": "code",
   "execution_count": null,
   "metadata": {},
   "outputs": [],
   "source": []
  },
  {
   "cell_type": "code",
   "execution_count": 7,
   "metadata": {},
   "outputs": [],
   "source": [
    "X=df.iloc[:,df.columns !='strength']\n",
    "y=df.iloc[:,df.columns =='strength']"
   ]
  },
  {
   "cell_type": "code",
   "execution_count": 8,
   "metadata": {},
   "outputs": [],
   "source": [
    "X_train,X_test,y_train,y_test=train_test_split(X,y,stratify=y,test_size=0.25,random_state=101)"
   ]
  },
  {
   "cell_type": "code",
   "execution_count": 9,
   "metadata": {},
   "outputs": [
    {
     "data": {
      "text/plain": [
       "((501995, 1), (167332, 1))"
      ]
     },
     "execution_count": 9,
     "metadata": {},
     "output_type": "execute_result"
    }
   ],
   "source": [
    "X_train.shape,X_test.shape"
   ]
  },
  {
   "cell_type": "code",
   "execution_count": 10,
   "metadata": {},
   "outputs": [
    {
     "data": {
      "image/png": "[encoded data removed]",
      "text/plain": [
       "<Figure size 432x288 with 2 Axes>"
      ]
     },
     "metadata": {},
     "output_type": "display_data"
    },
    {
     "name": "stdout",
     "output_type": "stream",
     "text": [
      "*************************************************\n",
      "For training data\n",
      "strength\n",
      "0            67238\n",
      "1           372560\n",
      "2            62197\n",
      "dtype: int64\n",
      "****************************\n",
      "For testing data\n",
      "strength\n",
      "0            22413\n",
      "1           124187\n",
      "2            20732\n",
      "dtype: int64\n"
     ]
    }
   ],
   "source": [
    "freq = y_train.value_counts().sort_index().tolist()\n",
    "label = ['weak','medium','strong']\n",
    "plt.subplot(1, 2, 1)\n",
    "plt.pie(freq, labels = label,autopct='%1.2f%%')\n",
    "plt.title('Train data class frequency')\n",
    "\n",
    "plt.subplot(1, 2, 2)\n",
    "plt.pie(freq, labels = label,autopct='%1.2f%%')\n",
    "plt.title('Test data class frequency')\n",
    "plt.show()\n",
    "\n",
    "print('*************************************************')\n",
    "print('For training data')\n",
    "print(y_train.value_counts().sort_index())\n",
    "print('****************************')\n",
    "print('For testing data')\n",
    "print(y_test.value_counts().sort_index())"
   ]
  },
  {
   "cell_type": "code",
   "execution_count": 11,
   "metadata": {},
   "outputs": [],
   "source": [
    "from sklearn.feature_extraction.text import TfidfVectorizer\n",
    "vectorizer = TfidfVectorizer(analyzer='char',lowercase=False)\n",
    "X_train = vectorizer.fit_transform(X_train.values.ravel())\n",
    "X_test = vectorizer.transform(X_test.values.ravel())"
   ]
  },
  {
   "cell_type": "code",
   "execution_count": 12,
   "metadata": {},
   "outputs": [
    {
     "data": {
      "text/plain": [
       "((501995, 185), (167332, 185))"
      ]
     },
     "execution_count": 12,
     "metadata": {},
     "output_type": "execute_result"
    }
   ],
   "source": [
    "X_train.shape,X_test.shape"
   ]
  },
  {
   "cell_type": "code",
   "execution_count": 13,
   "metadata": {},
   "outputs": [
    {
     "name": "stdout",
     "output_type": "stream",
     "text": [
      "185\n"
     ]
    },
    {
     "data": {
      "text/plain": [
       "[('g', 86),\n",
       " ('u', 100),\n",
       " ('j', 89),\n",
       " ('a', 80),\n",
       " ('r', 97),\n",
       " ('1', 33),\n",
       " ('9', 41),\n",
       " ('6', 38),\n",
       " ('4', 36),\n",
       " ('s', 98)]"
      ]
     },
     "execution_count": 13,
     "metadata": {},
     "output_type": "execute_result"
    }
   ],
   "source": [
    "print(len(vectorizer.vocabulary_))\n",
    "list(vectorizer.vocabulary_.items())[:10]"
   ]
  },
  {
   "cell_type": "code",
   "execution_count": 14,
   "metadata": {},
   "outputs": [],
   "source": [
    "label = sorted(y_train['strength'].unique().tolist())"
   ]
  },
  {
   "cell_type": "code",
   "execution_count": 15,
   "metadata": {},
   "outputs": [
    {
     "name": "stdout",
     "output_type": "stream",
     "text": [
      "Results for Multinomial naive bayes:-\n",
      "\n",
      "Training time(sec) =  0.12282323837280273\n",
      "Prediction time(sec) =  0.015625953674316406\n",
      "\n",
      "\n",
      "Training score =  0.6768883950041905\n",
      "Tesing score =  0.6745439177211682\n",
      "\n",
      "\n",
      "No of missclassified for class 0 (test data) = 8992 \n",
      "No of missclassified for class 1 (test data) = 53830 \n",
      "No of missclassified for class 2 (test data) = 2938 \n",
      "Total no of missclassified points(test data) =  65760\n",
      "Total % of missclassified points(test data) =  0.39299117921258336\n",
      "\n",
      "\n",
      "Training log_loss =  0.7557478314890228\n",
      "Tesing log_loss =  0.7558070399950942\n",
      "\n",
      "\n",
      "Confusion matrix:\n"
     ]
    },
    {
     "data": {
      "image/png": "[encoded data removed]",
      "text/plain": [
       "<Figure size 432x288 with 2 Axes>"
      ]
     },
     "metadata": {
      "needs_background": "light"
     },
     "output_type": "display_data"
    },
    {
     "name": "stdout",
     "output_type": "stream",
     "text": [
      "\n",
      "\n",
      "Classification report:-\n",
      "\n",
      "              precision    recall  f1-score   support\n",
      "\n",
      "           0       0.20      0.60      0.30     22413\n",
      "           1       0.88      0.57      0.69    124187\n",
      "           2       0.85      0.86      0.86     20732\n",
      "\n",
      "    accuracy                           0.61    167332\n",
      "   macro avg       0.65      0.67      0.62    167332\n",
      "weighted avg       0.79      0.61      0.66    167332\n",
      "\n",
      "**************************************************************************\n"
     ]
    }
   ],
   "source": [
    "#Fit prior is set to false since data is not balanced\n",
    "mnb = MultinomialNB(fit_prior = False)\n",
    "\n",
    "print('Results for Multinomial naive bayes:-\\n')\n",
    "start_time = time.time()\n",
    "mnb.fit(X_train,y_train)\n",
    "mnb_time = (time.time() - start_time)\n",
    "print('Training time(sec) = ',mnb_time)\n",
    "\n",
    "y_pred1 = mnb.predict(X_train)\n",
    "\n",
    "start_time = time.time()\n",
    "y_pred = mnb.predict(X_test)\n",
    "mnb_time2 = (time.time() - start_time)\n",
    "print('Prediction time(sec) = ',mnb_time2)\n",
    "\n",
    "y_pred_prob1 = mnb.predict_proba(X_train)\n",
    "y_pred_prob = mnb.predict_proba(X_test)\n",
    "\n",
    "cm_mnb = confusion_matrix(y_test, y_pred)\n",
    "mnb_miss = np.sum(y_pred!=y_test.values.ravel())\n",
    "acc1_mnb = balanced_accuracy_score(y_train,y_pred1)\n",
    "acc2_mnb = balanced_accuracy_score(y_test,y_pred)\n",
    "loss1_mnb = log_loss(y_train,y_pred_prob1)\n",
    "loss2_mnb = log_loss(y_test,y_pred_prob)\n",
    "\n",
    "print('\\n\\nTraining score = ',acc1_mnb)\n",
    "print('Tesing score = ',acc2_mnb)\n",
    "print('\\n')\n",
    "\n",
    "for i in range(len(y_train['strength'].unique())):\n",
    "    err = np.sum(cm_mnb[i])-cm_mnb[i][i]\n",
    "    print('No of missclassified for class {} (test data) = {} '.format(label[i],err))\n",
    "print('Total no of missclassified points(test data) = ',mnb_miss)\n",
    "print('Total % of missclassified points(test data) = ',mnb_miss/len(y_test))\n",
    "\n",
    "print('\\n\\nTraining log_loss = ',loss1_mnb)\n",
    "print('Tesing log_loss = ',loss2_mnb)\n",
    "print('\\n\\nConfusion matrix:')\n",
    "skplt.metrics.plot_confusion_matrix(y_test, y_pred)\n",
    "plt.show()\n",
    "print('\\n\\nClassification report:-\\n')\n",
    "print(classification_report(y_test,y_pred))\n",
    "print('**************************************************************************')\n",
    "\n",
    "MNB = [acc1_mnb,acc2_mnb,mnb_miss,mnb_miss/len(y_test),loss1_mnb,loss2_mnb,mnb_time,mnb_time2]"
   ]
  },
  {
   "cell_type": "code",
   "execution_count": 16,
   "metadata": {},
   "outputs": [
    {
     "name": "stdout",
     "output_type": "stream",
     "text": [
      "Results for Logistic regression:-\n",
      "\n",
      "Training time(sec) =  25.69300413131714\n",
      "Prediction time(sec) =  0.018002748489379883\n",
      "\n",
      "\n",
      "Training score =  0.8609076129067633\n",
      "Tesing score =  0.8594808690417564\n",
      "\n",
      "\n",
      "No of missclassified for class 0 (test data) = 3670 \n",
      "No of missclassified for class 1 (test data) = 27195 \n",
      "No of missclassified for class 2 (test data) = 805 \n",
      "Total no of missclassified points(test data) =  31670\n",
      "Total % of missclassified points(test data) =  0.18926445629048838\n",
      "\n",
      "\n",
      "Training log_loss =  0.47318962743204324\n",
      "Tesing log_loss =  0.4740763720967338\n",
      "\n",
      "\n",
      "Confusion matrix:\n"
     ]
    },
    {
     "data": {
      "image/png": "[encoded data removed]",
      "text/plain": [
       "<Figure size 432x288 with 2 Axes>"
      ]
     },
     "metadata": {
      "needs_background": "light"
     },
     "output_type": "display_data"
    },
    {
     "name": "stdout",
     "output_type": "stream",
     "text": [
      "\n",
      "\n",
      "Classification report:-\n",
      "\n",
      "              precision    recall  f1-score   support\n",
      "\n",
      "           0       0.43      0.84      0.56     22413\n",
      "           1       0.96      0.78      0.86    124187\n",
      "           2       0.90      0.96      0.93     20732\n",
      "\n",
      "    accuracy                           0.81    167332\n",
      "   macro avg       0.76      0.86      0.79    167332\n",
      "weighted avg       0.88      0.81      0.83    167332\n",
      "\n",
      "**************************************************************************\n"
     ]
    }
   ],
   "source": [
    "lr=LogisticRegression(class_weight='balanced',n_jobs=-1)\n",
    "\n",
    "print('Results for Logistic regression:-\\n')\n",
    "start_time = time.time()\n",
    "lr.fit(X_train,y_train)\n",
    "lr_time = (time.time() - start_time)\n",
    "print('Training time(sec) = ',lr_time)\n",
    "\n",
    "y_pred1 = lr.predict(X_train)\n",
    "\n",
    "start_time = time.time()\n",
    "y_pred = lr.predict(X_test)\n",
    "lr_time2 = (time.time() - start_time)\n",
    "print('Prediction time(sec) = ',lr_time2)\n",
    "\n",
    "y_pred_prob1 =lr.predict_proba(X_train)\n",
    "y_pred_prob=lr.predict_proba(X_test)\n",
    "\n",
    "cm_lr = confusion_matrix(y_test, y_pred)\n",
    "lr_miss = np.sum(y_pred!=y_test.values.ravel())\n",
    "acc1_lr = balanced_accuracy_score(y_train,y_pred1)\n",
    "acc2_lr = balanced_accuracy_score(y_test,y_pred)\n",
    "loss1_lr = log_loss(y_train,y_pred_prob1)\n",
    "loss2_lr = log_loss(y_test,y_pred_prob)\n",
    "\n",
    "print('\\n\\nTraining score = ',acc1_lr)\n",
    "print('Tesing score = ',acc2_lr)\n",
    "print('\\n')\n",
    "\n",
    "for i in range(len(y_train['strength'].unique())):\n",
    "    err = np.sum(cm_lr[i])-cm_lr[i][i]\n",
    "    print('No of missclassified for class {} (test data) = {} '.format(label[i],err))\n",
    "    \n",
    "print('Total no of missclassified points(test data) = ',lr_miss)\n",
    "print('Total % of missclassified points(test data) = ',lr_miss/len(y_test))\n",
    "print('\\n\\nTraining log_loss = ',loss1_lr)\n",
    "print('Tesing log_loss = ',loss2_lr)\n",
    "print('\\n\\nConfusion matrix:')\n",
    "skplt.metrics.plot_confusion_matrix(y_test, y_pred)\n",
    "plt.show()\n",
    "print('\\n\\nClassification report:-\\n')\n",
    "print(classification_report(y_test,y_pred))\n",
    "print('**************************************************************************')\n",
    "\n",
    "LR = [acc1_lr,acc2_lr,lr_miss,lr_miss/len(y_test),loss1_lr,loss2_lr,lr_time,lr_time2]"
   ]
  },
  {
   "cell_type": "code",
   "execution_count": 17,
   "metadata": {},
   "outputs": [],
   "source": [
    "s1=[MNB,LR]\n",
    "s2=['MNB','LR']\n",
    "col=['Train score','Test score','Missclassified-point','% missclasification','Train log-loss','Test log-loss','Training time','Prediction time']\n",
    "result=dict.fromkeys(s2,None)\n",
    "\n",
    "for i in range(len(s1)):\n",
    "    result[s2[i]] = s1[i]"
   ]
  },
  {
   "cell_type": "code",
   "execution_count": 18,
   "metadata": {},
   "outputs": [],
   "source": [
    "temp = pd.DataFrame.from_dict(result, orient='index',columns=col).reset_index()\n",
    "result = temp.rename(columns={'index':'Classifiers'})"
   ]
  },
  {
   "cell_type": "code",
   "execution_count": 19,
   "metadata": {},
   "outputs": [
    {
     "data": {
      "text/html": [
       "<div>\n",
       "<style scoped>\n",
       "    .dataframe tbody tr th:only-of-type {\n",
       "        vertical-align: middle;\n",
       "    }\n",
       "\n",
       "    .dataframe tbody tr th {\n",
       "        vertical-align: top;\n",
       "    }\n",
       "\n",
       "    .dataframe thead th {\n",
       "        text-align: right;\n",
       "    }\n",
       "</style>\n",
       "<table border=\"1\" class=\"dataframe\">\n",
       "  <thead>\n",
       "    <tr style=\"text-align: right;\">\n",
       "      <th></th>\n",
       "      <th>Classifiers</th>\n",
       "      <th>Train score</th>\n",
       "      <th>Test score</th>\n",
       "      <th>Missclassified-point</th>\n",
       "      <th>% missclasification</th>\n",
       "      <th>Train log-loss</th>\n",
       "      <th>Test log-loss</th>\n",
       "      <th>Training time</th>\n",
       "      <th>Prediction time</th>\n",
       "    </tr>\n",
       "  </thead>\n",
       "  <tbody>\n",
       "    <tr>\n",
       "      <th>0</th>\n",
       "      <td>MNB</td>\n",
       "      <td>0.676888</td>\n",
       "      <td>0.674544</td>\n",
       "      <td>65760</td>\n",
       "      <td>0.392991</td>\n",
       "      <td>0.755748</td>\n",
       "      <td>0.755807</td>\n",
       "      <td>0.122823</td>\n",
       "      <td>0.015626</td>\n",
       "    </tr>\n",
       "    <tr>\n",
       "      <th>1</th>\n",
       "      <td>LR</td>\n",
       "      <td>0.860908</td>\n",
       "      <td>0.859481</td>\n",
       "      <td>31670</td>\n",
       "      <td>0.189264</td>\n",
       "      <td>0.473190</td>\n",
       "      <td>0.474076</td>\n",
       "      <td>25.693004</td>\n",
       "      <td>0.018003</td>\n",
       "    </tr>\n",
       "  </tbody>\n",
       "</table>\n",
       "</div>"
      ],
      "text/plain": [
       "  Classifiers  Train score  Test score  Missclassified-point  \\\n",
       "0         MNB     0.676888    0.674544                 65760   \n",
       "1          LR     0.860908    0.859481                 31670   \n",
       "\n",
       "   % missclasification  Train log-loss  Test log-loss  Training time  \\\n",
       "0             0.392991        0.755748       0.755807       0.122823   \n",
       "1             0.189264        0.473190       0.474076      25.693004   \n",
       "\n",
       "   Prediction time  \n",
       "0         0.015626  \n",
       "1         0.018003  "
      ]
     },
     "execution_count": 19,
     "metadata": {},
     "output_type": "execute_result"
    }
   ],
   "source": [
    "result"
   ]
  },
  {
   "cell_type": "code",
   "execution_count": null,
   "metadata": {},
   "outputs": [],
   "source": []
  },
  {
   "cell_type": "code",
   "execution_count": 20,
   "metadata": {},
   "outputs": [
    {
     "data": {
      "text/html": [
       "<div>\n",
       "<style scoped>\n",
       "    .dataframe tbody tr th:only-of-type {\n",
       "        vertical-align: middle;\n",
       "    }\n",
       "\n",
       "    .dataframe tbody tr th {\n",
       "        vertical-align: top;\n",
       "    }\n",
       "\n",
       "    .dataframe thead th {\n",
       "        text-align: right;\n",
       "    }\n",
       "</style>\n",
       "<table border=\"1\" class=\"dataframe\">\n",
       "  <thead>\n",
       "    <tr style=\"text-align: right;\">\n",
       "      <th></th>\n",
       "      <th>length</th>\n",
       "      <th>count_spc</th>\n",
       "      <th>num_len</th>\n",
       "      <th>uppercase</th>\n",
       "      <th>lowercase</th>\n",
       "      <th>strength</th>\n",
       "    </tr>\n",
       "  </thead>\n",
       "  <tbody>\n",
       "    <tr>\n",
       "      <th>419968</th>\n",
       "      <td>16</td>\n",
       "      <td>0</td>\n",
       "      <td>1</td>\n",
       "      <td>8</td>\n",
       "      <td>7</td>\n",
       "      <td>2</td>\n",
       "    </tr>\n",
       "    <tr>\n",
       "      <th>645770</th>\n",
       "      <td>8</td>\n",
       "      <td>0</td>\n",
       "      <td>4</td>\n",
       "      <td>0</td>\n",
       "      <td>4</td>\n",
       "      <td>1</td>\n",
       "    </tr>\n",
       "    <tr>\n",
       "      <th>542031</th>\n",
       "      <td>10</td>\n",
       "      <td>0</td>\n",
       "      <td>3</td>\n",
       "      <td>0</td>\n",
       "      <td>7</td>\n",
       "      <td>1</td>\n",
       "    </tr>\n",
       "    <tr>\n",
       "      <th>642789</th>\n",
       "      <td>10</td>\n",
       "      <td>0</td>\n",
       "      <td>8</td>\n",
       "      <td>0</td>\n",
       "      <td>2</td>\n",
       "      <td>1</td>\n",
       "    </tr>\n",
       "    <tr>\n",
       "      <th>5415</th>\n",
       "      <td>6</td>\n",
       "      <td>0</td>\n",
       "      <td>2</td>\n",
       "      <td>0</td>\n",
       "      <td>4</td>\n",
       "      <td>0</td>\n",
       "    </tr>\n",
       "  </tbody>\n",
       "</table>\n",
       "</div>"
      ],
      "text/plain": [
       "        length  count_spc  num_len  uppercase  lowercase  strength\n",
       "419968      16          0        1          8          7         2\n",
       "645770       8          0        4          0          4         1\n",
       "542031      10          0        3          0          7         1\n",
       "642789      10          0        8          0          2         1\n",
       "5415         6          0        2          0          4         0"
      ]
     },
     "execution_count": 20,
     "metadata": {},
     "output_type": "execute_result"
    }
   ],
   "source": [
    "df = pd.read_csv(r'password_data2.csv')\n",
    "df.sample(5)"
   ]
  },
  {
   "cell_type": "code",
   "execution_count": 21,
   "metadata": {},
   "outputs": [
    {
     "data": {
      "text/plain": [
       "(669327, 6)"
      ]
     },
     "execution_count": 21,
     "metadata": {},
     "output_type": "execute_result"
    }
   ],
   "source": [
    "df.shape"
   ]
  },
  {
   "cell_type": "code",
   "execution_count": 22,
   "metadata": {},
   "outputs": [],
   "source": [
    "X=df.iloc[:,df.columns !='strength']\n",
    "y=df.iloc[:,df.columns =='strength']"
   ]
  },
  {
   "cell_type": "code",
   "execution_count": 23,
   "metadata": {},
   "outputs": [],
   "source": [
    "from sklearn.model_selection import train_test_split\n",
    "X_train,X_test,y_train,y_test=train_test_split(X,y,stratify=y,test_size=0.25,random_state=101)"
   ]
  },
  {
   "cell_type": "code",
   "execution_count": 24,
   "metadata": {},
   "outputs": [
    {
     "data": {
      "text/plain": [
       "((501995, 5), (167332, 5))"
      ]
     },
     "execution_count": 24,
     "metadata": {},
     "output_type": "execute_result"
    }
   ],
   "source": [
    "X_train.shape,X_test.shape"
   ]
  },
  {
   "cell_type": "code",
   "execution_count": 25,
   "metadata": {},
   "outputs": [
    {
     "data": {
      "image/png": "[encoded data removed]",
      "text/plain": [
       "<Figure size 432x288 with 2 Axes>"
      ]
     },
     "metadata": {},
     "output_type": "display_data"
    },
    {
     "name": "stdout",
     "output_type": "stream",
     "text": [
      "*************************************************\n",
      "For training data\n",
      "strength\n",
      "0            67238\n",
      "1           372560\n",
      "2            62197\n",
      "dtype: int64\n",
      "****************************\n",
      "For testing data\n",
      "strength\n",
      "0            22413\n",
      "1           124187\n",
      "2            20732\n",
      "dtype: int64\n"
     ]
    }
   ],
   "source": [
    "freq = y_train.value_counts().sort_index().tolist()\n",
    "label = ['weak','medium','strong']\n",
    "plt.subplot(1, 2, 1)\n",
    "plt.pie(freq, labels = label,autopct='%1.2f%%')\n",
    "plt.title('Train data class frequency')\n",
    "\n",
    "plt.subplot(1, 2, 2)\n",
    "plt.pie(freq, labels = label,autopct='%1.2f%%')\n",
    "plt.title('Test data class frequency')\n",
    "plt.show()\n",
    "\n",
    "print('*************************************************')\n",
    "print('For training data')\n",
    "print(y_train.value_counts().sort_index())\n",
    "print('****************************')\n",
    "print('For testing data')\n",
    "print(y_test.value_counts().sort_index())"
   ]
  },
  {
   "cell_type": "code",
   "execution_count": 26,
   "metadata": {},
   "outputs": [],
   "source": [
    "from sklearn.preprocessing import StandardScaler\n",
    "scaler = StandardScaler()\n",
    "X_train = scaler.fit_transform(X_train)\n",
    "X_test = scaler.transform(X_test.values)"
   ]
  },
  {
   "cell_type": "code",
   "execution_count": 28,
   "metadata": {},
   "outputs": [
    {
     "name": "stdout",
     "output_type": "stream",
     "text": [
      "Results for Logistic regression:-\n",
      "\n",
      "Training time(sec) =  17.115137338638306\n",
      "Prediction time(sec) =  0.01586174964904785\n",
      "\n",
      "\n",
      "Training score =  0.9999219405499039\n",
      "Tesing score =  0.9999043846766305\n",
      "\n",
      "\n",
      "No of missclassified for class weak (test data) = 3 \n",
      "No of missclassified for class medium (test data) = 19 \n",
      "No of missclassified for class strong (test data) = 0 \n",
      "Total no of missclassified points(test data) =  22\n",
      "Total % of missclassified points(test data) =  0.00013147515119642388\n",
      "\n",
      "\n",
      "Training log_loss =  0.0015813761840901886\n",
      "Tesing log_loss =  0.0019369177087940137\n",
      "\n",
      "\n",
      "Confusion matrix:\n"
     ]
    },
    {
     "data": {
      "image/png": "[encoded data removed]",
      "text/plain": [
       "<Figure size 432x288 with 2 Axes>"
      ]
     },
     "metadata": {
      "needs_background": "light"
     },
     "output_type": "display_data"
    },
    {
     "name": "stdout",
     "output_type": "stream",
     "text": [
      "\n",
      "\n",
      "Classification report:-\n",
      "\n",
      "              precision    recall  f1-score   support\n",
      "\n",
      "           0       1.00      1.00      1.00     22413\n",
      "           1       1.00      1.00      1.00    124187\n",
      "           2       1.00      1.00      1.00     20732\n",
      "\n",
      "    accuracy                           1.00    167332\n",
      "   macro avg       1.00      1.00      1.00    167332\n",
      "weighted avg       1.00      1.00      1.00    167332\n",
      "\n",
      "**************************************************************************\n"
     ]
    }
   ],
   "source": [
    "lr=LogisticRegression(class_weight='balanced',n_jobs=-1)\n",
    "\n",
    "print('Results for Logistic regression:-\\n')\n",
    "start_time = time.time()\n",
    "lr.fit(X_train,y_train)\n",
    "lr_time = (time.time() - start_time)\n",
    "print('Training time(sec) = ',lr_time)\n",
    "\n",
    "y_pred1 = lr.predict(X_train)\n",
    "\n",
    "start_time = time.time()\n",
    "y_pred = lr.predict(X_test)\n",
    "lr_time2 = (time.time() - start_time)\n",
    "print('Prediction time(sec) = ',lr_time2)\n",
    "\n",
    "y_pred_prob1 =lr.predict_proba(X_train)\n",
    "y_pred_prob=lr.predict_proba(X_test)\n",
    "\n",
    "cm_lr = confusion_matrix(y_test, y_pred)\n",
    "lr_miss = np.sum(y_pred!=y_test.values.ravel())\n",
    "acc1_lr = balanced_accuracy_score(y_train,y_pred1)\n",
    "acc2_lr = balanced_accuracy_score(y_test,y_pred)\n",
    "loss1_lr = log_loss(y_train,y_pred_prob1)\n",
    "loss2_lr = log_loss(y_test,y_pred_prob)\n",
    "\n",
    "print('\\n\\nTraining score = ',acc1_lr)\n",
    "print('Tesing score = ',acc2_lr)\n",
    "print('\\n')\n",
    "\n",
    "for i in range(len(y_train['strength'].unique())):\n",
    "    err = np.sum(cm_lr[i])-cm_lr[i][i]\n",
    "    print('No of missclassified for class {} (test data) = {} '.format(label[i],err))\n",
    "    \n",
    "print('Total no of missclassified points(test data) = ',lr_miss)\n",
    "print('Total % of missclassified points(test data) = ',lr_miss/len(y_test))\n",
    "print('\\n\\nTraining log_loss = ',loss1_lr)\n",
    "print('Tesing log_loss = ',loss2_lr)\n",
    "print('\\n\\nConfusion matrix:')\n",
    "skplt.metrics.plot_confusion_matrix(y_test, y_pred)\n",
    "plt.show()\n",
    "print('\\n\\nClassification report:-\\n')\n",
    "print(classification_report(y_test,y_pred))\n",
    "print('**************************************************************************')\n",
    "\n",
    "LR = [acc1_lr,acc2_lr,lr_miss,lr_miss/len(y_test),loss1_lr,loss2_lr,lr_time,lr_time2]"
   ]
  },
  {
   "cell_type": "code",
   "execution_count": 29,
   "metadata": {},
   "outputs": [
    {
     "data": {
      "text/html": [
       "<div>\n",
       "<style scoped>\n",
       "    .dataframe tbody tr th:only-of-type {\n",
       "        vertical-align: middle;\n",
       "    }\n",
       "\n",
       "    .dataframe tbody tr th {\n",
       "        vertical-align: top;\n",
       "    }\n",
       "\n",
       "    .dataframe thead th {\n",
       "        text-align: right;\n",
       "    }\n",
       "</style>\n",
       "<table border=\"1\" class=\"dataframe\">\n",
       "  <thead>\n",
       "    <tr style=\"text-align: right;\">\n",
       "      <th></th>\n",
       "      <th>Plane_0</th>\n",
       "      <th>Plane_1</th>\n",
       "      <th>Plane_2</th>\n",
       "    </tr>\n",
       "  </thead>\n",
       "  <tbody>\n",
       "    <tr>\n",
       "      <th>length</th>\n",
       "      <td>-23.097909</td>\n",
       "      <td>1.566307</td>\n",
       "      <td>21.531602</td>\n",
       "    </tr>\n",
       "    <tr>\n",
       "      <th>count_spc</th>\n",
       "      <td>-1.063881</td>\n",
       "      <td>-0.012094</td>\n",
       "      <td>1.075975</td>\n",
       "    </tr>\n",
       "    <tr>\n",
       "      <th>num_len</th>\n",
       "      <td>-7.858827</td>\n",
       "      <td>1.066104</td>\n",
       "      <td>6.792723</td>\n",
       "    </tr>\n",
       "    <tr>\n",
       "      <th>uppercase</th>\n",
       "      <td>-8.006664</td>\n",
       "      <td>0.370608</td>\n",
       "      <td>7.636056</td>\n",
       "    </tr>\n",
       "    <tr>\n",
       "      <th>lowercase</th>\n",
       "      <td>-8.496075</td>\n",
       "      <td>0.828151</td>\n",
       "      <td>7.667924</td>\n",
       "    </tr>\n",
       "    <tr>\n",
       "      <th>Constant</th>\n",
       "      <td>-9.429547</td>\n",
       "      <td>22.013250</td>\n",
       "      <td>-12.583703</td>\n",
       "    </tr>\n",
       "  </tbody>\n",
       "</table>\n",
       "</div>"
      ],
      "text/plain": [
       "             Plane_0    Plane_1    Plane_2\n",
       "length    -23.097909   1.566307  21.531602\n",
       "count_spc  -1.063881  -0.012094   1.075975\n",
       "num_len    -7.858827   1.066104   6.792723\n",
       "uppercase  -8.006664   0.370608   7.636056\n",
       "lowercase  -8.496075   0.828151   7.667924\n",
       "Constant   -9.429547  22.013250 -12.583703"
      ]
     },
     "execution_count": 29,
     "metadata": {},
     "output_type": "execute_result"
    }
   ],
   "source": [
    "cls = np.unique(y_train).tolist()\n",
    "col=np.append(X.columns,['Constant'])\n",
    "plane=pd.DataFrame(index=col)\n",
    "for i in range(len(cls)):\n",
    "    lr_coeff=np.append(lr.coef_[i],lr.intercept_[i]).T\n",
    "    plane['Plane_'+str(i)] = lr_coeff\n",
    "plane"
   ]
  },
  {
   "cell_type": "code",
   "execution_count": null,
   "metadata": {},
   "outputs": [],
   "source": []
  },
  {
   "cell_type": "code",
   "execution_count": 30,
   "metadata": {},
   "outputs": [
    {
     "name": "stdout",
     "output_type": "stream",
     "text": [
      "Results for Extra-tree classifier:-\n",
      "\n",
      "Training time(sec) =  8.117275476455688\n",
      "Prediction time(sec) =  0.5653674602508545\n",
      "\n",
      "\n",
      "Training score =  0.9999457601969333\n",
      "Tesing score =  0.9999070688008409\n",
      "\n",
      "\n",
      "No of missclassified for class weak (test data) = 3 \n",
      "No of missclassified for class medium (test data) = 18 \n",
      "No of missclassified for class strong (test data) = 0 \n",
      "Total no of missclassified points(test data) =  21\n",
      "Total % of missclassified points(test data) =  0.00012549900796022278\n",
      "\n",
      "\n",
      "Training log_loss =  0.00023307810708196895\n",
      "Tesing log_loss =  0.0009722829781451192\n",
      "\n",
      "\n",
      "Confusion matrix:\n"
     ]
    },
    {
     "data": {
      "image/png": "[encoded data removed]",
      "text/plain": [
       "<Figure size 432x288 with 2 Axes>"
      ]
     },
     "metadata": {
      "needs_background": "light"
     },
     "output_type": "display_data"
    },
    {
     "name": "stdout",
     "output_type": "stream",
     "text": [
      "\n",
      "\n",
      "Classification report:-\n",
      "\n",
      "              precision    recall  f1-score   support\n",
      "\n",
      "           0       1.00      1.00      1.00     22413\n",
      "           1       1.00      1.00      1.00    124187\n",
      "           2       1.00      1.00      1.00     20732\n",
      "\n",
      "    accuracy                           1.00    167332\n",
      "   macro avg       1.00      1.00      1.00    167332\n",
      "weighted avg       1.00      1.00      1.00    167332\n",
      "\n",
      "**************************************************************************\n"
     ]
    }
   ],
   "source": [
    "#Fit prior is set to false since data is not balanced\n",
    "from sklearn.ensemble import ExtraTreesClassifier\n",
    "\n",
    "etree = ExtraTreesClassifier(class_weight='balanced',n_jobs=-1)\n",
    "\n",
    "print('Results for Extra-tree classifier:-\\n')\n",
    "\n",
    "start_time = time.time()\n",
    "etree.fit(X_train,y_train)\n",
    "etree_time = (time.time() - start_time)\n",
    "print('Training time(sec) = ',etree_time)\n",
    "\n",
    "y_pred1 = etree.predict(X_train)\n",
    "\n",
    "start_time = time.time()\n",
    "y_pred = etree.predict(X_test)\n",
    "etree_time2 = (time.time() - start_time)\n",
    "print('Prediction time(sec) = ',etree_time2)\n",
    "\n",
    "y_pred_prob1 = etree.predict_proba(X_train)\n",
    "y_pred_prob = etree.predict_proba(X_test)\n",
    "\n",
    "cm_etree = confusion_matrix(y_test, y_pred)\n",
    "etree_miss = np.sum(y_pred!=y_test.values.ravel())\n",
    "acc1_etree = balanced_accuracy_score(y_train,y_pred1)\n",
    "acc2_etree = balanced_accuracy_score(y_test,y_pred)\n",
    "loss1_etree = log_loss(y_train,y_pred_prob1)\n",
    "loss2_etree = log_loss(y_test,y_pred_prob)\n",
    "\n",
    "print('\\n\\nTraining score = ',acc1_etree)\n",
    "print('Tesing score = ',acc2_etree)\n",
    "print('\\n')\n",
    "\n",
    "for i in range(len(y_train['strength'].unique())):\n",
    "    err = np.sum(cm_etree[i])-cm_etree[i][i]\n",
    "    print('No of missclassified for class {} (test data) = {} '.format(label[i],err))\n",
    "print('Total no of missclassified points(test data) = ',etree_miss)\n",
    "print('Total % of missclassified points(test data) = ',etree_miss/len(y_test))\n",
    "\n",
    "print('\\n\\nTraining log_loss = ',loss1_etree)\n",
    "print('Tesing log_loss = ',loss2_etree)\n",
    "print('\\n\\nConfusion matrix:')\n",
    "skplt.metrics.plot_confusion_matrix(y_test, y_pred)\n",
    "plt.show()\n",
    "print('\\n\\nClassification report:-\\n')\n",
    "print(classification_report(y_test,y_pred))\n",
    "print('**************************************************************************')\n",
    "\n",
    "Extra_tree = [acc1_etree,acc2_etree,etree_miss,etree_miss/len(y_test),loss1_etree,loss2_etree,etree_time,etree_time2]"
   ]
  },
  {
   "cell_type": "code",
   "execution_count": null,
   "metadata": {},
   "outputs": [],
   "source": []
  },
  {
   "cell_type": "code",
   "execution_count": 31,
   "metadata": {},
   "outputs": [],
   "source": [
    "s1=[LR,Extra_tree]\n",
    "s2=['LR','Extra_tree']\n",
    "col=['Train score','Test score','Missclassified-point','% missclasification','Train log-loss','Test log-loss','Training time','Prediction time']\n",
    "result2=dict.fromkeys(s2,None)\n",
    "\n",
    "for i in range(len(s1)):\n",
    "    result2[s2[i]] = s1[i]"
   ]
  },
  {
   "cell_type": "code",
   "execution_count": 32,
   "metadata": {},
   "outputs": [],
   "source": [
    "temp = pd.DataFrame.from_dict(result2, orient='index',columns=col).reset_index()\n",
    "result2 = temp.rename(columns={'index':'Classifiers'})"
   ]
  },
  {
   "cell_type": "code",
   "execution_count": 33,
   "metadata": {},
   "outputs": [
    {
     "data": {
      "text/html": [
       "<div>\n",
       "<style scoped>\n",
       "    .dataframe tbody tr th:only-of-type {\n",
       "        vertical-align: middle;\n",
       "    }\n",
       "\n",
       "    .dataframe tbody tr th {\n",
       "        vertical-align: top;\n",
       "    }\n",
       "\n",
       "    .dataframe thead th {\n",
       "        text-align: right;\n",
       "    }\n",
       "</style>\n",
       "<table border=\"1\" class=\"dataframe\">\n",
       "  <thead>\n",
       "    <tr style=\"text-align: right;\">\n",
       "      <th></th>\n",
       "      <th>Classifiers</th>\n",
       "      <th>Train score</th>\n",
       "      <th>Test score</th>\n",
       "      <th>Missclassified-point</th>\n",
       "      <th>% missclasification</th>\n",
       "      <th>Train log-loss</th>\n",
       "      <th>Test log-loss</th>\n",
       "      <th>Training time</th>\n",
       "      <th>Prediction time</th>\n",
       "    </tr>\n",
       "  </thead>\n",
       "  <tbody>\n",
       "    <tr>\n",
       "      <th>0</th>\n",
       "      <td>LR</td>\n",
       "      <td>0.999922</td>\n",
       "      <td>0.999904</td>\n",
       "      <td>22</td>\n",
       "      <td>0.000131</td>\n",
       "      <td>0.001581</td>\n",
       "      <td>0.001937</td>\n",
       "      <td>17.115137</td>\n",
       "      <td>0.015862</td>\n",
       "    </tr>\n",
       "    <tr>\n",
       "      <th>1</th>\n",
       "      <td>Extra_tree</td>\n",
       "      <td>0.999946</td>\n",
       "      <td>0.999907</td>\n",
       "      <td>21</td>\n",
       "      <td>0.000125</td>\n",
       "      <td>0.000233</td>\n",
       "      <td>0.000972</td>\n",
       "      <td>8.117275</td>\n",
       "      <td>0.565367</td>\n",
       "    </tr>\n",
       "  </tbody>\n",
       "</table>\n",
       "</div>"
      ],
      "text/plain": [
       "  Classifiers  Train score  Test score  Missclassified-point  \\\n",
       "0          LR     0.999922    0.999904                    22   \n",
       "1  Extra_tree     0.999946    0.999907                    21   \n",
       "\n",
       "   % missclasification  Train log-loss  Test log-loss  Training time  \\\n",
       "0             0.000131        0.001581       0.001937      17.115137   \n",
       "1             0.000125        0.000233       0.000972       8.117275   \n",
       "\n",
       "   Prediction time  \n",
       "0         0.015862  \n",
       "1         0.565367  "
      ]
     },
     "execution_count": 33,
     "metadata": {},
     "output_type": "execute_result"
    }
   ],
   "source": [
    "result2"
   ]
  },
  {
   "cell_type": "code",
   "execution_count": 34,
   "metadata": {},
   "outputs": [
    {
     "data": {
      "text/html": [
       "<div>\n",
       "<style scoped>\n",
       "    .dataframe tbody tr th:only-of-type {\n",
       "        vertical-align: middle;\n",
       "    }\n",
       "\n",
       "    .dataframe tbody tr th {\n",
       "        vertical-align: top;\n",
       "    }\n",
       "\n",
       "    .dataframe thead th {\n",
       "        text-align: right;\n",
       "    }\n",
       "</style>\n",
       "<table border=\"1\" class=\"dataframe\">\n",
       "  <thead>\n",
       "    <tr style=\"text-align: right;\">\n",
       "      <th></th>\n",
       "      <th>Classifiers</th>\n",
       "      <th>Train score</th>\n",
       "      <th>Test score</th>\n",
       "      <th>Missclassified-point</th>\n",
       "      <th>% missclasification</th>\n",
       "      <th>Train log-loss</th>\n",
       "      <th>Test log-loss</th>\n",
       "      <th>Training time</th>\n",
       "      <th>Prediction time</th>\n",
       "    </tr>\n",
       "  </thead>\n",
       "  <tbody>\n",
       "    <tr>\n",
       "      <th>0</th>\n",
       "      <td>MNB</td>\n",
       "      <td>0.676888</td>\n",
       "      <td>0.674544</td>\n",
       "      <td>65760</td>\n",
       "      <td>0.392991</td>\n",
       "      <td>0.755748</td>\n",
       "      <td>0.755807</td>\n",
       "      <td>0.122823</td>\n",
       "      <td>0.015626</td>\n",
       "    </tr>\n",
       "    <tr>\n",
       "      <th>1</th>\n",
       "      <td>LR</td>\n",
       "      <td>0.860908</td>\n",
       "      <td>0.859481</td>\n",
       "      <td>31670</td>\n",
       "      <td>0.189264</td>\n",
       "      <td>0.473190</td>\n",
       "      <td>0.474076</td>\n",
       "      <td>25.693004</td>\n",
       "      <td>0.018003</td>\n",
       "    </tr>\n",
       "  </tbody>\n",
       "</table>\n",
       "</div>"
      ],
      "text/plain": [
       "  Classifiers  Train score  Test score  Missclassified-point  \\\n",
       "0         MNB     0.676888    0.674544                 65760   \n",
       "1          LR     0.860908    0.859481                 31670   \n",
       "\n",
       "   % missclasification  Train log-loss  Test log-loss  Training time  \\\n",
       "0             0.392991        0.755748       0.755807       0.122823   \n",
       "1             0.189264        0.473190       0.474076      25.693004   \n",
       "\n",
       "   Prediction time  \n",
       "0         0.015626  \n",
       "1         0.018003  "
      ]
     },
     "execution_count": 34,
     "metadata": {},
     "output_type": "execute_result"
    }
   ],
   "source": [
    "result"
   ]
  },
  {
   "cell_type": "code",
   "execution_count": null,
   "metadata": {},
   "outputs": [],
   "source": []
  },
  {
   "cell_type": "markdown",
   "metadata": {},
   "source": [
    "<h3>Feature selection<\\h3>"
   ]
  },
  {
   "cell_type": "code",
   "execution_count": 35,
   "metadata": {},
   "outputs": [],
   "source": [
    "def scorer(lr,X,y):\n",
    "    y_pred = lr.predict(X)\n",
    "    score = balanced_accuracy_score(y,y_pred)\n",
    "    return score"
   ]
  },
  {
   "cell_type": "code",
   "execution_count": 19,
   "metadata": {},
   "outputs": [
    {
     "name": "stderr",
     "output_type": "stream",
     "text": [
      "Features: 16/16"
     ]
    },
    {
     "name": "stdout",
     "output_type": "stream",
     "text": [
      "Training time(sec) =  436.0289752483368\n",
      "\n",
      "Best accuracy score: %.2f 0.9999358448785888\n",
      "Best subset (indices): (0, 2, 3)\n",
      "Best subset (corresponding names): ('length', 'num_len', 'uppercase')\n"
     ]
    }
   ],
   "source": [
    "efs = EFS(lr, \n",
    "           min_features=3,\n",
    "           max_features=5,\n",
    "           scoring=scorer,\n",
    "           print_progress=True,\n",
    "           cv=3 \n",
    "          )\n",
    "\n",
    "start_time = time.time()\n",
    "efs = efs.fit(X_train, y_train, custom_feature_names=X.columns.tolist())\n",
    "efs_time = (time.time() - start_time)\n",
    "print('Training time(sec) = ',efs_time)\n",
    "\n",
    "print('\\nBest accuracy score: %.2f' ,efs.best_score_)\n",
    "print('Best subset (indices):', efs.best_idx_)\n",
    "print('Best subset (corresponding names):', efs.best_feature_names_)\n",
    "\n",
    "X_train_efs = efs.transform(X_train)\n",
    "X_test_efs = efs.transform(X_test)"
   ]
  },
  {
   "cell_type": "code",
   "execution_count": 34,
   "metadata": {},
   "outputs": [
    {
     "data": {
      "text/html": [
       "<div>\n",
       "<style scoped>\n",
       "    .dataframe tbody tr th:only-of-type {\n",
       "        vertical-align: middle;\n",
       "    }\n",
       "\n",
       "    .dataframe tbody tr th {\n",
       "        vertical-align: top;\n",
       "    }\n",
       "\n",
       "    .dataframe thead th {\n",
       "        text-align: right;\n",
       "    }\n",
       "</style>\n",
       "<table border=\"1\" class=\"dataframe\">\n",
       "  <thead>\n",
       "    <tr style=\"text-align: right;\">\n",
       "      <th></th>\n",
       "      <th>feature_names</th>\n",
       "      <th>avg_score</th>\n",
       "    </tr>\n",
       "  </thead>\n",
       "  <tbody>\n",
       "    <tr>\n",
       "      <th>3</th>\n",
       "      <td>(length, num_len, uppercase)</td>\n",
       "      <td>0.999936</td>\n",
       "    </tr>\n",
       "    <tr>\n",
       "      <th>4</th>\n",
       "      <td>(length, num_len, lowercase)</td>\n",
       "      <td>0.999936</td>\n",
       "    </tr>\n",
       "    <tr>\n",
       "      <th>5</th>\n",
       "      <td>(length, uppercase, lowercase)</td>\n",
       "      <td>0.999936</td>\n",
       "    </tr>\n",
       "    <tr>\n",
       "      <th>0</th>\n",
       "      <td>(length, count_spc, num_len)</td>\n",
       "      <td>0.999935</td>\n",
       "    </tr>\n",
       "    <tr>\n",
       "      <th>2</th>\n",
       "      <td>(length, count_spc, lowercase)</td>\n",
       "      <td>0.999934</td>\n",
       "    </tr>\n",
       "    <tr>\n",
       "      <th>11</th>\n",
       "      <td>(length, count_spc, num_len, lowercase)</td>\n",
       "      <td>0.999931</td>\n",
       "    </tr>\n",
       "    <tr>\n",
       "      <th>1</th>\n",
       "      <td>(length, count_spc, uppercase)</td>\n",
       "      <td>0.999923</td>\n",
       "    </tr>\n",
       "    <tr>\n",
       "      <th>10</th>\n",
       "      <td>(length, count_spc, num_len, uppercase)</td>\n",
       "      <td>0.999923</td>\n",
       "    </tr>\n",
       "    <tr>\n",
       "      <th>12</th>\n",
       "      <td>(length, count_spc, uppercase, lowercase)</td>\n",
       "      <td>0.99992</td>\n",
       "    </tr>\n",
       "    <tr>\n",
       "      <th>15</th>\n",
       "      <td>(length, count_spc, num_len, uppercase, lowerc...</td>\n",
       "      <td>0.999914</td>\n",
       "    </tr>\n",
       "  </tbody>\n",
       "</table>\n",
       "</div>"
      ],
      "text/plain": [
       "                                        feature_names avg_score\n",
       "3                        (length, num_len, uppercase)  0.999936\n",
       "4                        (length, num_len, lowercase)  0.999936\n",
       "5                      (length, uppercase, lowercase)  0.999936\n",
       "0                        (length, count_spc, num_len)  0.999935\n",
       "2                      (length, count_spc, lowercase)  0.999934\n",
       "11            (length, count_spc, num_len, lowercase)  0.999931\n",
       "1                      (length, count_spc, uppercase)  0.999923\n",
       "10            (length, count_spc, num_len, uppercase)  0.999923\n",
       "12          (length, count_spc, uppercase, lowercase)   0.99992\n",
       "15  (length, count_spc, num_len, uppercase, lowerc...  0.999914"
      ]
     },
     "execution_count": 34,
     "metadata": {},
     "output_type": "execute_result"
    }
   ],
   "source": [
    "df = pd.DataFrame.from_dict(efs.get_metric_dict()).T\n",
    "df.sort_values('avg_score', inplace=True, ascending=False)\n",
    "df[['feature_names','avg_score']].head(10)"
   ]
  },
  {
   "cell_type": "code",
   "execution_count": 40,
   "metadata": {},
   "outputs": [
    {
     "data": {
      "image/png": "[encoded data removed]",
      "text/plain": [
       "<Figure size 432x288 with 1 Axes>"
      ]
     },
     "metadata": {
      "needs_background": "light"
     },
     "output_type": "display_data"
    },
    {
     "name": "stdout",
     "output_type": "stream",
     "text": [
      "Total time(sec) =  36.796265840530396\n"
     ]
    }
   ],
   "source": [
    "start_time = time.time()\n",
    "sns.scatterplot(x='length',y='num_len',hue='strength',data=df,palette=sns.color_palette(\"husl\", 3))\n",
    "plt.xlim([0,50])\n",
    "plt.ylim([0,25])\n",
    "plt.show()\n",
    "print('Total time(sec) = ',(time.time() - start_time))"
   ]
  },
  {
   "cell_type": "code",
   "execution_count": 43,
   "metadata": {},
   "outputs": [
    {
     "data": {
      "image/png": "[encoded data removed]",
      "text/plain": [
       "<Figure size 432x288 with 1 Axes>"
      ]
     },
     "metadata": {
      "needs_background": "light"
     },
     "output_type": "display_data"
    },
    {
     "name": "stdout",
     "output_type": "stream",
     "text": [
      "Total time(sec) =  33.011839866638184\n"
     ]
    }
   ],
   "source": [
    "start_time = time.time()\n",
    "sns.scatterplot(x='num_len',y='uppercase',hue='strength',data=df,palette=sns.color_palette(\"husl\", 3))\n",
    "plt.xlim([0,25])\n",
    "plt.ylim([0,20])\n",
    "plt.show()\n",
    "print('Total time(sec) = ',(time.time() - start_time))"
   ]
  },
  {
   "cell_type": "code",
   "execution_count": 44,
   "metadata": {},
   "outputs": [
    {
     "data": {
      "image/png": "[encoded data removed]",
      "text/plain": [
       "<Figure size 432x288 with 1 Axes>"
      ]
     },
     "metadata": {
      "needs_background": "light"
     },
     "output_type": "display_data"
    },
    {
     "name": "stdout",
     "output_type": "stream",
     "text": [
      "Total time(sec) =  39.700440883636475\n"
     ]
    }
   ],
   "source": [
    "start_time = time.time()\n",
    "sns.scatterplot(x='length',y='uppercase',hue='strength',data=df,palette=sns.color_palette(\"husl\", 3))\n",
    "plt.xlim([0,50])\n",
    "plt.ylim([0,20])\n",
    "plt.show()\n",
    "print('Total time(sec) = ',(time.time() - start_time))"
   ]
  },
  {
   "cell_type": "code",
   "execution_count": null,
   "metadata": {},
   "outputs": [],
   "source": []
  }
 ],
 "metadata": {
  "accelerator": "GPU",
  "colab": {
   "name": "Password Strength.ipynb",
   "provenance": []
  },
  "kernelspec": {
   "display_name": "Python 3",
   "language": "python",
   "name": "python3"
  },
  "language_info": {
   "codemirror_mode": {
    "name": "ipython",
    "version": 3
   },
   "file_extension": ".py",
   "mimetype": "text/x-python",
   "name": "python",
   "nbconvert_exporter": "python",
   "pygments_lexer": "ipython3",
   "version": "3.7.7"
  }
 },
 "nbformat": 4,
 "nbformat_minor": 1
}
